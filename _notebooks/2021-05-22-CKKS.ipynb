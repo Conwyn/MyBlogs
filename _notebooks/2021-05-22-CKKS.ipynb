{
  "nbformat": 4,
  "nbformat_minor": 0,
  "metadata": {
    "colab": {
      "name": "CKKSV2.ipynb",
      "provenance": [],
      "collapsed_sections": [],
      "authorship_tag": "ABX9TyNMWieZypc+nQNsd+FJRG52"
    },
    "kernelspec": {
      "name": "python3",
      "display_name": "Python 3"
    }
  },
  "cells": [
    {
      "cell_type": "markdown",
      "metadata": {
        "id": "EJNkSyba1teJ"
      },
      "source": [
        "# Playing with CKKS\n",
        "> Based on https://blog.openmined.org/ckks-explained-part-3-encryption-and-decryption/ \n",
        "- toc: true\n",
        "- branch: master\n",
        "- badges: true\n",
        "- comments: true\n",
        "- author: Conwyn\n",
        "- categories: [fastai,FHE,CKKS]"
      ]
    },
    {
      "cell_type": "markdown",
      "metadata": {
        "id": "yzKGkhIt3giI"
      },
      "source": [
        "CKSS is a method of taking Complex (so Real) numbers and generating polynomials and then encrypting those polynomials. It is possible to add and multiply these encrypted polynomials and then decrypt them giving the answers as if the same operation applied to the original polynomials and the actual initial Real numbers. So ideal for deep learning matrix multipliction."
      ]
    },
    {
      "cell_type": "code",
      "metadata": {
        "id": "Duaphm75eSt-"
      },
      "source": [
        "from numpy.polynomial import Polynomial\n",
        "import numpy as np\n",
        "\n",
        "def round_coordinates(coordinates):\n",
        "    \"\"\"Gives the integral rest.\"\"\"\n",
        "    coordinates = coordinates - np.floor(coordinates)\n",
        "    return coordinates\n",
        "\n",
        "def coordinate_wise_random_rounding(coordinates):\n",
        "    \"\"\"Rounds coordinates randonmly.\"\"\"\n",
        "    r = round_coordinates(coordinates)\n",
        "    f = np.array([np.random.choice([c, c-1], 1, p=[1-c, c]) for c in r]).reshape(-1)\n",
        "    \n",
        "    rounded_coordinates = coordinates - f\n",
        "    rounded_coordinates = [int(coeff) for coeff in rounded_coordinates]\n",
        "    return rounded_coordinates\n",
        "\n",
        "class CKKSEncoder:\n",
        "    \"\"\"Basic CKKS encoder to encode complex vectors into polynomials.\"\"\"\n",
        "    \n",
        "    def __init__(self, M:int, scale:float):\n",
        "        \"\"\"Initializes with scale.\"\"\"\n",
        "        self.xi = np.exp(2 * np.pi * 1j / M)\n",
        "        self.M = M\n",
        "        self.create_sigma_R_basis()\n",
        "        self.scale = scale\n",
        "        \n",
        "    @staticmethod\n",
        "    def vandermonde(xi: np.complex128, M: int) -> np.array:\n",
        "        \"\"\"Computes the Vandermonde matrix from a m-th root of unity.\"\"\"\n",
        "        \n",
        "        N = M //2\n",
        "        matrix = []\n",
        "        # We will generate each row of the matrix\n",
        "        for i in range(N):\n",
        "            # For each row we select a different root\n",
        "            root = xi ** (2 * i + 1)\n",
        "            row = []\n",
        "\n",
        "            # Then we store its powers\n",
        "            for j in range(N):\n",
        "                row.append(root ** j)\n",
        "            matrix.append(row)\n",
        "        return matrix\n",
        "    \n",
        "    def sigma_inverse(self, b: np.array) -> Polynomial:\n",
        "        \"\"\"Encodes the vector b in a polynomial using an M-th root of unity.\"\"\"\n",
        "\n",
        "        # First we create the Vandermonde matrix\n",
        "        A = CKKSEncoder.vandermonde(self.xi, M)\n",
        "\n",
        "        # Then we solve the system\n",
        "        coeffs = np.linalg.solve(A, b)\n",
        "\n",
        "        # Finally we output the polynomial\n",
        "        p = Polynomial(coeffs)\n",
        "        return p\n",
        "\n",
        "    def sigma(self, p: Polynomial) -> np.array:\n",
        "        \"\"\"Decodes a polynomial by applying it to the M-th roots of unity.\"\"\"\n",
        "\n",
        "        outputs = []\n",
        "        N = self.M //2\n",
        "\n",
        "        # We simply apply the polynomial on the roots\n",
        "        for i in range(N):\n",
        "            root = self.xi ** (2 * i + 1)\n",
        "            output = p(root)\n",
        "            outputs.append(output)\n",
        "        return np.array(outputs)\n",
        "    \n",
        "\n",
        "    def pi(self, z: np.array) -> np.array:\n",
        "        \"\"\"Projects a vector of H into C^{N/2}.\"\"\"\n",
        "\n",
        "        N = self.M // 4\n",
        "        return z[:N]\n",
        "\n",
        "\n",
        "    def pi_inverse(self, z: np.array) -> np.array:\n",
        "        \"\"\"Expands a vector of C^{N/2} by expanding it with its\n",
        "        complex conjugate.\"\"\"\n",
        "\n",
        "        z_conjugate = z[::-1]\n",
        "        z_conjugate = [np.conjugate(x) for x in z_conjugate]\n",
        "        return np.concatenate([z, z_conjugate])\n",
        "    \n",
        "    def create_sigma_R_basis(self):\n",
        "        \"\"\"Creates the basis (sigma(1), sigma(X), ..., sigma(X** N-1)).\"\"\"\n",
        "\n",
        "        self.sigma_R_basis = np.array(self.vandermonde(self.xi, self.M)).T\n",
        "    \n",
        "\n",
        "    def compute_basis_coordinates(self, z):\n",
        "        \"\"\"Computes the coordinates of a vector with respect to the orthogonal lattice basis.\"\"\"\n",
        "        output = np.array([np.real(np.vdot(z, b) / np.vdot(b,b)) for b in self.sigma_R_basis])\n",
        "        return output\n",
        "\n",
        "    def sigma_R_discretization(self, z):\n",
        "        \"\"\"Projects a vector on the lattice using coordinate wise random rounding.\"\"\"\n",
        "        coordinates = self.compute_basis_coordinates(z)\n",
        "\n",
        "        rounded_coordinates = coordinate_wise_random_rounding(coordinates)\n",
        "        y = np.matmul(self.sigma_R_basis.T, rounded_coordinates)\n",
        "        return y\n",
        "\n",
        "\n",
        "    def encode(self, z: np.array) -> Polynomial:\n",
        "        \"\"\"Encodes a vector by expanding it first to H,\n",
        "        scale it, project it on the lattice of sigma(R), and performs\n",
        "        sigma inverse.\n",
        "        \"\"\"\n",
        "        pi_z = self.pi_inverse(z)\n",
        "        scaled_pi_z = self.scale * pi_z\n",
        "        rounded_scale_pi_zi = self.sigma_R_discretization(scaled_pi_z)\n",
        "        p = self.sigma_inverse(rounded_scale_pi_zi)\n",
        "\n",
        "        # We round it afterwards due to numerical imprecision\n",
        "        coef = np.round(np.real(p.coef)).astype(int)\n",
        "        p = Polynomial(coef)\n",
        "        return p\n",
        "\n",
        "\n",
        "    def decode(self, p: Polynomial) -> np.array:\n",
        "        \"\"\"Decodes a polynomial by removing the scale, \n",
        "        evaluating on the roots, and project it on C^(N/2)\"\"\"\n",
        "        rescaled_p = p / self.scale\n",
        "        z = self.sigma(rescaled_p)\n",
        "        pi_z = self.pi(z)\n",
        "        return pi_z\n",
        "\n",
        "\n",
        "\n",
        "M = 8\n",
        "N = M //2\n",
        "scale = 64\n",
        "\n",
        "# We set xi, which will be used in our computations\n",
        "xi = np.exp(2 * np.pi * 1j / M)\n",
        "xi\n",
        "encoder = CKKSEncoder(M,scale)"
      ],
      "execution_count": null,
      "outputs": []
    },
    {
      "cell_type": "code",
      "metadata": {
        "id": "scBz0feQ1oF2"
      },
      "source": [
        ""
      ],
      "execution_count": null,
      "outputs": []
    },
    {
      "cell_type": "code",
      "metadata": {
        "id": "cTd2jR-jeZG5",
        "colab": {
          "base_uri": "https://localhost:8080/",
          "height": 35
        },
        "outputId": "938b672b-e592-416b-bd2b-ac5842ea2caa"
      },
      "source": [
        "# First we set the parameters\n",
        "M = 8\n",
        "N = M //2\n",
        "\n",
        "# We set xi, which will be used in our computations\n",
        "xi = np.exp(2 * np.pi * 1j / M)\n",
        "xi\n"
      ],
      "execution_count": null,
      "outputs": [
        {
          "output_type": "execute_result",
          "data": {
            "text/plain": [
              "(0.7071067811865476+0.7071067811865475j)"
            ]
          },
          "metadata": {
            "tags": []
          },
          "execution_count": 4
        }
      ]
    },
    {
      "cell_type": "code",
      "metadata": {
        "id": "0aq73IhCeY22"
      },
      "source": [
        ""
      ],
      "execution_count": null,
      "outputs": []
    },
    {
      "cell_type": "code",
      "metadata": {
        "id": "PICm_hMQe8on",
        "colab": {
          "base_uri": "https://localhost:8080/",
          "height": 35
        },
        "outputId": "1695fa92-f338-4b91-c13c-b11d49ed9654"
      },
      "source": [
        "\n",
        "b = np.array([1, 2, 3, 4])\n",
        "b\n",
        "\n",
        "p = encoder.sigma_inverse(b)\n",
        "p\n",
        "\n",
        "b_reconstructed = encoder.sigma(p)\n",
        "b_reconstructed\n",
        "\n",
        "\n",
        "\n",
        "np.linalg.norm(b_reconstructed - b)"
      ],
      "execution_count": null,
      "outputs": [
        {
          "output_type": "execute_result",
          "data": {
            "text/plain": [
              "6.944442800358888e-16"
            ]
          },
          "metadata": {
            "tags": []
          },
          "execution_count": 5
        }
      ]
    },
    {
      "cell_type": "code",
      "metadata": {
        "id": "kNA6Hgkugr-h",
        "colab": {
          "base_uri": "https://localhost:8080/",
          "height": 54
        },
        "outputId": "28e6c741-f16a-4b50-da9c-8ab8740fd786"
      },
      "source": [
        "z = np.array([3 +4j, 2 - 1j])\n",
        "z\n",
        "\n",
        "p = encoder.encode(z)\n",
        "print(p)\n",
        "\n",
        "\n",
        "\n",
        "encoder.decode(p)"
      ],
      "execution_count": null,
      "outputs": [
        {
          "output_type": "stream",
          "text": [
            "poly([160.  90. 160.  45.])\n"
          ],
          "name": "stdout"
        },
        {
          "output_type": "execute_result",
          "data": {
            "text/plain": [
              "array([2.99718446+3.99155337j, 2.00281554-1.00844663j])"
            ]
          },
          "metadata": {
            "tags": []
          },
          "execution_count": 6
        }
      ]
    },
    {
      "cell_type": "code",
      "metadata": {
        "id": "OJ6l-V-jimtt",
        "colab": {
          "base_uri": "https://localhost:8080/",
          "height": 54
        },
        "outputId": "9d8af367-5c10-4355-e9a5-e68ad708a7d3"
      },
      "source": [
        "z = np.array([1,0])\n",
        "z\n",
        "\n",
        "p = encoder.encode(z)\n",
        "print(p)\n",
        "\n",
        "\n",
        "\n",
        "encoder.decode(p)"
      ],
      "execution_count": null,
      "outputs": [
        {
          "output_type": "stream",
          "text": [
            "poly([ 32.  22.   0. -23.])\n"
          ],
          "name": "stdout"
        },
        {
          "output_type": "execute_result",
          "data": {
            "text/plain": [
              "array([0.99718446-0.01104854j, 0.00281554-0.01104854j])"
            ]
          },
          "metadata": {
            "tags": []
          },
          "execution_count": 16
        }
      ]
    },
    {
      "cell_type": "code",
      "metadata": {
        "id": "IUaavdsRgsIX",
        "colab": {
          "base_uri": "https://localhost:8080/",
          "height": 54
        },
        "outputId": "36696051-54c5-4616-8182-e482cd1c4868"
      },
      "source": [
        "z = np.array([2,0])\n",
        "z\n",
        "\n",
        "p = encoder.encode(z)\n",
        "print(p)\n",
        "\n",
        "\n",
        "\n",
        "encoder.decode(p)"
      ],
      "execution_count": null,
      "outputs": [
        {
          "output_type": "stream",
          "text": [
            "poly([ 64.  46.   0. -46.])\n"
          ],
          "name": "stdout"
        },
        {
          "output_type": "execute_result",
          "data": {
            "text/plain": [
              "array([ 2.016466+0.0000000e+00j, -0.016466+4.4408921e-16j])"
            ]
          },
          "metadata": {
            "tags": []
          },
          "execution_count": 10
        }
      ]
    },
    {
      "cell_type": "code",
      "metadata": {
        "id": "BEAJLJShgsFX",
        "colab": {
          "base_uri": "https://localhost:8080/",
          "height": 54
        },
        "outputId": "d5440939-a3e7-4f0c-b3fb-72b6d4e8fb7f"
      },
      "source": [
        "z = np.array([3,0])\n",
        "z\n",
        "\n",
        "p = encoder.encode(z)\n",
        "print(p)\n",
        "\n",
        "\n",
        "\n",
        "encoder.decode(p)"
      ],
      "execution_count": null,
      "outputs": [
        {
          "output_type": "stream",
          "text": [
            "poly([ 96.  68.   0. -67.])\n"
          ],
          "name": "stdout"
        },
        {
          "output_type": "execute_result",
          "data": {
            "text/plain": [
              "array([2.99155337+0.01104854j, 0.00844663+0.01104854j])"
            ]
          },
          "metadata": {
            "tags": []
          },
          "execution_count": 12
        }
      ]
    },
    {
      "cell_type": "code",
      "metadata": {
        "id": "YCT0p3phgr6z",
        "colab": {
          "base_uri": "https://localhost:8080/",
          "height": 54
        },
        "outputId": "2f589768-4277-4b33-b347-cae3e39d64f4"
      },
      "source": [
        "z = np.array([4,0])\n",
        "z\n",
        "\n",
        "p = encoder.encode(z)\n",
        "print(p)\n",
        "\n",
        "\n",
        "\n",
        "encoder.decode(p)"
      ],
      "execution_count": null,
      "outputs": [
        {
          "output_type": "stream",
          "text": [
            "poly([128.  90.   0. -91.])\n"
          ],
          "name": "stdout"
        },
        {
          "output_type": "execute_result",
          "data": {
            "text/plain": [
              "array([3.99978637e+00-0.01104854j, 2.13634457e-04-0.01104854j])"
            ]
          },
          "metadata": {
            "tags": []
          },
          "execution_count": 13
        }
      ]
    },
    {
      "cell_type": "code",
      "metadata": {
        "id": "UgjJM1Gjgr30",
        "colab": {
          "base_uri": "https://localhost:8080/",
          "height": 54
        },
        "outputId": "6f584b75-284a-40ad-eeb1-d873f8797d7f"
      },
      "source": [
        "z = np.array([5,0])\n",
        "z\n",
        "\n",
        "p = encoder.encode(z)\n",
        "print(p)\n",
        "\n",
        "\n",
        "\n",
        "encoder.decode(p)"
      ],
      "execution_count": null,
      "outputs": [
        {
          "output_type": "stream",
          "text": [
            "poly([ 160.  113.    0. -113.])\n"
          ],
          "name": "stdout"
        },
        {
          "output_type": "execute_result",
          "data": {
            "text/plain": [
              "array([4.99697082e+00-4.44089210e-16j, 3.02917894e-03+1.33226763e-15j])"
            ]
          },
          "metadata": {
            "tags": []
          },
          "execution_count": 14
        }
      ]
    },
    {
      "cell_type": "code",
      "metadata": {
        "id": "eVZ6MUS_iafK",
        "colab": {
          "base_uri": "https://localhost:8080/",
          "height": 54
        },
        "outputId": "1947dfa5-5df7-49b7-8049-7faf0192f4ec"
      },
      "source": [
        "z = np.array([1,0])\n",
        "z\n",
        "\n",
        "p = encoder.encode(z)\n",
        "print(p)\n",
        "\n",
        "\n",
        "\n",
        "encoder.decode(p)"
      ],
      "execution_count": null,
      "outputs": [
        {
          "output_type": "stream",
          "text": [
            "poly([ 32.  23.   0. -23.])\n"
          ],
          "name": "stdout"
        },
        {
          "output_type": "execute_result",
          "data": {
            "text/plain": [
              "array([ 1.008233+0.00000000e+00j, -0.008233+2.22044605e-16j])"
            ]
          },
          "metadata": {
            "tags": []
          },
          "execution_count": 15
        }
      ]
    },
    {
      "cell_type": "code",
      "metadata": {
        "id": "uiDuaE7Tgrzh",
        "colab": {
          "base_uri": "https://localhost:8080/",
          "height": 72
        },
        "outputId": "4ebf607c-76e1-46c1-d093-97bbf1ee6d30"
      },
      "source": [
        "a1=Polynomial([32,22,0,-23])\n",
        "print(a1)\n",
        "a2 = 2 * a1\n",
        "print(a2)\n",
        "encoder.decode(a2)"
      ],
      "execution_count": null,
      "outputs": [
        {
          "output_type": "stream",
          "text": [
            "poly([ 32.  22.   0. -23.])\n",
            "poly([ 64.  44.   0. -46.])\n"
          ],
          "name": "stdout"
        },
        {
          "output_type": "execute_result",
          "data": {
            "text/plain": [
              "array([1.99436891-0.02209709j, 0.00563109-0.02209709j])"
            ]
          },
          "metadata": {
            "tags": []
          },
          "execution_count": 7
        }
      ]
    },
    {
      "cell_type": "code",
      "metadata": {
        "id": "Pcsn_o7XlIi5"
      },
      "source": [
        ""
      ],
      "execution_count": null,
      "outputs": []
    },
    {
      "cell_type": "code",
      "metadata": {
        "id": "B_mRCwhG3mFT"
      },
      "source": [
        "import numpy as np\n",
        "from numpy.polynomial import polynomial as poly\n",
        "\n",
        "def polymul(x, y, modulus, poly_mod):\n",
        "   \n",
        "     \"\"\"Multiply two polynoms\n",
        "    Args:\n",
        "        x, y: two polynoms to be multiplied.\n",
        "        modulus: coefficient modulus.\n",
        "        poly_mod: polynomial modulus.\n",
        "    Returns:\n",
        "        A polynomial in Z_modulus[X]/(poly_mod).\n",
        "    \"\"\"\n",
        "    return np.int64(\n",
        "        np.round(poly.polydiv(poly.polymul(x, y) % modulus, poly_mod)[1] % modulus)\n",
        "    )\n",
        "\n",
        "\n",
        "def polyadd(x, y, modulus, poly_mod):\n",
        "    \"\"\"Add two polynoms\n",
        "    Args:\n",
        "        x, y: two polynoms to be added.\n",
        "        modulus: coefficient modulus.\n",
        "        poly_mod: polynomial modulus.\n",
        "    Returns:\n",
        "        A polynomial in Z_modulus[X]/(poly_mod).\n",
        "    \"\"\"\n",
        "    return np.int64(\n",
        "        np.round(poly.polydiv(poly.polyadd(x, y) % modulus, poly_mod)[1] % modulus)\n",
        "    )\n"
      ],
      "execution_count": null,
      "outputs": []
    },
    {
      "cell_type": "code",
      "metadata": {
        "id": "lwodfp2gp4H_"
      },
      "source": [
        "def gen_binary_poly(size):\n",
        "    \"\"\"Generates a polynomial with coeffecients in [0, 1]\n",
        "    Args:\n",
        "        size: number of coeffcients, size-1 being the degree of the\n",
        "            polynomial.\n",
        "    Returns:\n",
        "        array of coefficients with the coeff[i] being \n",
        "        the coeff of x ^ i.\n",
        "    \"\"\"\n",
        "    return np.random.randint(0, 2, size, dtype=np.int64)\n",
        "\n",
        "\n",
        "def gen_uniform_poly(size, modulus):\n",
        "    \"\"\"Generates a polynomial with coeffecients being integers in Z_modulus\n",
        "    Args:\n",
        "        size: number of coeffcients, size-1 being the degree of the\n",
        "            polynomial.\n",
        "    Returns:\n",
        "        array of coefficients with the coeff[i] being \n",
        "        the coeff of x ^ i.\n",
        "    \"\"\"\n",
        "    return np.random.randint(0, modulus, size, dtype=np.int64)\n",
        "\n",
        "\n",
        "def gen_normal_poly(size):\n",
        "    \"\"\"Generates a polynomial with coeffecients in a normal distribution\n",
        "    of mean 0 and a standard deviation of 2, then discretize it.\n",
        "    Args:\n",
        "        size: number of coeffcients, size-1 being the degree of the\n",
        "            polynomial.\n",
        "    Returns:\n",
        "        array of coefficients with the coeff[i] being \n",
        "        the coeff of x ^ i.\n",
        "    \"\"\"\n",
        "    return np.int64(np.random.normal(0, 2, size=size))\n"
      ],
      "execution_count": null,
      "outputs": []
    },
    {
      "cell_type": "code",
      "metadata": {
        "id": "Mg0NBxlip4NX"
      },
      "source": [
        "def keygen(size, modulus, poly_mod):\n",
        "    \"\"\"Generate a public and secret keys\n",
        "    Args:\n",
        "        size: size of the polynoms for the public and secret keys.\n",
        "        modulus: coefficient modulus.\n",
        "        poly_mod: polynomial modulus.\n",
        "    Returns:\n",
        "        Public and secret key.\n",
        "    \n",
        "    sk = gen_binary_poly(size)\n",
        "    a = gen_uniform_poly(size, modulus)\n",
        "    e = gen_normal_poly(size)\n",
        "    \"\"\"\n",
        "    b = polyadd(polymul(-a, sk, modulus, poly_mod), -e, modulus, poly_mod)\n",
        "    return (b, a), sk"
      ],
      "execution_count": null,
      "outputs": []
    },
    {
      "cell_type": "code",
      "metadata": {
        "id": "YR6AkMOEp4SU"
      },
      "source": [
        "def encrypt(pk, size, q, t, poly_mod, pt):\n",
        "    \"\"\"Encrypt an integer.\n",
        "    Args:\n",
        "        pk: public-key.\n",
        "        size: size of polynomials.\n",
        "        q: ciphertext modulus.\n",
        "        t: plaintext modulus.\n",
        "        poly_mod: polynomial modulus.\n",
        "        pt: integer to be encrypted.\n",
        "    Returns:\n",
        "        Tuple representing a ciphertext.      \n",
        "    \"\"\"\n",
        "    \"\"\"\n",
        "    e1 = gen_normal_poly(size)\n",
        "    e2 = gen_normal_poly(size)\n",
        "    u = gen_binary_poly(size)\n",
        "    \"\"\"\n",
        "    # encode the integer into a plaintext polynomial\n",
        "    # m = np.array([pt] + [0] * (size - 1), dtype=np.int64) % t\n",
        "    m = pt %t\n",
        "    delta = q // t\n",
        "    scaled_m = m * delta  % q\n",
        "    \n",
        "    ct0 = polyadd(\n",
        "            polyadd(\n",
        "                polymul(pk[0], u, q, poly_mod),\n",
        "                e1, q, poly_mod),\n",
        "            scaled_m, q, poly_mod\n",
        "        )\n",
        "    ct1 = polyadd(\n",
        "            polymul(pk[1], u, q, poly_mod),\n",
        "            e2, q, poly_mod\n",
        "        )\n",
        "    return (ct0, ct1)\n"
      ],
      "execution_count": null,
      "outputs": []
    },
    {
      "cell_type": "code",
      "metadata": {
        "id": "J1QvG5rMp4U9"
      },
      "source": [
        "def decrypt(sk, size, q, t, poly_mod, ct):\n",
        "    \"\"\"Decrypt a ciphertext\n",
        "    Args:\n",
        "        sk: secret-key.\n",
        "        size: size of polynomials.\n",
        "        q: ciphertext modulus.\n",
        "        t: plaintext modulus.\n",
        "        poly_mod: polynomial modulus.\n",
        "        ct: ciphertext.\n",
        "    Returns:\n",
        "        Integer representing the plaintext.#   \n",
        "        \"\"\"\n",
        "    scaled_pt = polyadd(\n",
        "            polymul(ct[1], sk, q, poly_mod),\n",
        "            ct[0], q, poly_mod\n",
        "        )\n",
        "    decrypted_poly = np.round(scaled_pt * t / q) % t\n",
        "    # return int(decrypted_poly[0])\n",
        "    return  (decrypted_poly)\n"
      ],
      "execution_count": null,
      "outputs": []
    },
    {
      "cell_type": "code",
      "metadata": {
        "id": "yjM9olewle3z"
      },
      "source": [
        "size=2**2\n",
        "e1 = gen_normal_poly(size)\n",
        "e2 = gen_normal_poly(size)\n",
        "u = gen_binary_poly(size)\n",
        "# polynomial modulus degree\n",
        "n = 2**2\n",
        "# ciphertext modulus\n",
        "q = 2**15\n",
        "# plaintext modulus\n",
        "t = 2**8\n",
        "# polynomial modulus\n",
        "poly_mod = np.array([1] + [0] * (n - 1) + [1])\n",
        "# Keygen\n",
        "sk = gen_binary_poly(size)\n",
        "modulus = 2**15\n",
        "a = gen_uniform_poly(size, modulus)\n",
        "e = gen_normal_poly(size)\n",
        "pk, sk = keygen(n, q, poly_mod)"
      ],
      "execution_count": null,
      "outputs": []
    },
    {
      "cell_type": "code",
      "metadata": {
        "id": "TBVhgyA5lilH",
        "colab": {
          "base_uri": "https://localhost:8080/",
          "height": 54
        },
        "outputId": "9bdc7f2e-0ca9-45a2-f075-eefb27cdde9e"
      },
      "source": [
        "ct1 = encrypt(pk, n, q, t, poly_mod, np.array([ 32,22,   0, -23]))\n",
        "print(ct1)\n",
        "decrypted_ct1 = decrypt(sk, n, q, t, poly_mod, ct1)\n",
        "print(decrypted_ct1)"
      ],
      "execution_count": null,
      "outputs": [
        {
          "output_type": "stream",
          "text": [
            "(array([29281, 29854,  2994, 15207]), array([23343,  7572, 16473,  1144]))\n",
            "[ 32.  22.   0. 233.]\n"
          ],
          "name": "stdout"
        }
      ]
    },
    {
      "cell_type": "code",
      "metadata": {
        "id": "g1iJemMvmWzq",
        "colab": {
          "base_uri": "https://localhost:8080/",
          "height": 54
        },
        "outputId": "a903f10e-2bc1-4076-e223-6020a774c8e9"
      },
      "source": [
        "ct2= (ct1[0] + ct1[0],ct1[0]+ct1[0])\n",
        "print(ct2)\n",
        "decrypted_ct2 = decrypt(sk, n, q, t, poly_mod, ct2)\n",
        "print(decrypted_ct2)"
      ],
      "execution_count": null,
      "outputs": [
        {
          "output_type": "stream",
          "text": [
            "(array([58562, 59708,  5988, 30414]), array([58562, 59708,  5988, 30414]))\n",
            "[219. 128. 221. 184.]\n"
          ],
          "name": "stdout"
        }
      ]
    },
    {
      "cell_type": "code",
      "metadata": {
        "id": "_PZGVfrPp1jT"
      },
      "source": [
        ""
      ],
      "execution_count": null,
      "outputs": []
    },
    {
      "cell_type": "code",
      "metadata": {
        "id": "3y-HC410p2bU"
      },
      "source": [
        "def gen_binary_poly(size):\n",
        "    \"\"\"Generates a polynomial with coeffecients in [0, 1]\n",
        "    Args:\n",
        "        size: number of coeffcients, size-1 being the degree of the\n",
        "            polynomial.\n",
        "    Returns:\n",
        "        array of coefficients with the coeff[i] being \n",
        "        the coeff of x ^ i.\n",
        "    \"\"\"\n",
        "    return np.random.randint(0, 2, size, dtype=np.int64)\n",
        "\n",
        "\n",
        "def gen_uniform_poly(size, modulus):\n",
        "    \"\"\"Generates a polynomial with coeffecients being integers in Z_modulus\n",
        "    Args:\n",
        "        size: number of coeffcients, size-1 being the degree of the\n",
        "            polynomial.\n",
        "    Returns:\n",
        "        array of coefficients with the coeff[i] being \n",
        "        the coeff of x ^ i.\n",
        "    \"\"\"\n",
        "    return np.random.randint(0, modulus, size, dtype=np.int64)\n",
        "\n",
        "\n",
        "def gen_normal_poly(size):\n",
        "    \"\"\"Generates a polynomial with coeffecients in a normal distribution\n",
        "    of mean 0 and a standard deviation of 2, then discretize it.\n",
        "    Args:\n",
        "        size: number of coeffcients, size-1 being the degree of the\n",
        "            polynomial.\n",
        "    Returns:\n",
        "        array of coefficients with the coeff[i] being \n",
        "        the coeff of x ^ i.\n",
        "    \"\"\"\n",
        "\n"
      ],
      "execution_count": null,
      "outputs": []
    },
    {
      "cell_type": "code",
      "metadata": {
        "id": "YXw5kdyIp5Oc",
        "colab": {
          "base_uri": "https://localhost:8080/",
          "height": 35
        },
        "outputId": "57bce4de-ebac-4849-e02f-55105efa5545"
      },
      "source": [
        "    np.int64(np.random.normal(0, 2, size=5))"
      ],
      "execution_count": null,
      "outputs": [
        {
          "output_type": "execute_result",
          "data": {
            "text/plain": [
              "array([ 0,  0,  2, -1, -2])"
            ]
          },
          "metadata": {
            "tags": []
          },
          "execution_count": 3
        }
      ]
    },
    {
      "cell_type": "code",
      "metadata": {
        "id": "QAIg7Jnsp1e0",
        "colab": {
          "base_uri": "https://localhost:8080/",
          "height": 35
        },
        "outputId": "57cc6cb2-cdf6-4ebf-bc03-6e95660d2120"
      },
      "source": [
        "\n",
        "import math\n",
        "np.random.normal(0,math.sqrt(2),5)"
      ],
      "execution_count": null,
      "outputs": [
        {
          "output_type": "execute_result",
          "data": {
            "text/plain": [
              "array([-0.15210849, -1.40642172, -0.50763401, -0.31183585,  1.27311431])"
            ]
          },
          "metadata": {
            "tags": []
          },
          "execution_count": 6
        }
      ]
    },
    {
      "cell_type": "code",
      "metadata": {
        "id": "VQNAJczGJfLo",
        "colab": {
          "base_uri": "https://localhost:8080/",
          "height": 35
        },
        "outputId": "aa8f467b-711b-4344-f619-b333a82bf85f"
      },
      "source": [
        "an_array = np.array([1, 2, 3])\n",
        "\n",
        "def double(x):\n",
        "\n",
        "  return x * 2\n",
        "\n",
        "\n",
        "mapped_array = double(an_array)\n",
        "\n",
        "\n",
        "print(mapped_array)"
      ],
      "execution_count": null,
      "outputs": [
        {
          "output_type": "stream",
          "text": [
            "[2 4 6]\n"
          ],
          "name": "stdout"
        }
      ]
    },
    {
      "cell_type": "code",
      "metadata": {
        "id": "rHDTRtJ9p1bq",
        "colab": {
          "base_uri": "https://localhost:8080/",
          "height": 207
        },
        "outputId": "b449c801-f1fe-4860-e83d-f84b74d5c978"
      },
      "source": [
        "\n",
        "from numpy.polynomial import polynomial as poly\n",
        "import numpy as np\n",
        "import math\n",
        "# Create a function that adds 100 to something\n",
        "add_100 = lambda i: i + 100\n",
        "\n",
        "# Create a vectorized function\n",
        "\n",
        "\n",
        "def randomZO(x) :\n",
        "  lookup = [-1,0,0,1]\n",
        "  return lookup[x]\n",
        "  #given p=0.5 create q = 1/p so 2 create array 2q with middle elements 0 and 0 otherwise -1 and 1. change rndint to be 0,2q\n",
        "  #So p = 0.25 q = 4 array 11100111\n",
        "\n",
        "def randomZOinverse(x) :\n",
        "  if x == 0 :\n",
        "         return 0\n",
        "  return 1\n",
        "  \n",
        "\n",
        "qmod = 2**10\n",
        "P = 2**8\n",
        "\n",
        "poly_mod = np.array([1,0,0,0,1])\n",
        "def ZOgenerator(  ):\n",
        "  vectorized_ZO = np.vectorize(randomZO)\n",
        "  vectorized_ZOinverse = np.vectorize(randomZOinverse)\n",
        "  sa = vectorized_ZO(np.random.randint(0,4,4))\n",
        "  sai = vectorized_ZOinverse(sa)\n",
        "  while not((2 == (sai == 1).sum()) ) :\n",
        "    sa = vectorized_ZO(np.random.randint(0,4,4))\n",
        "    sai = vectorized_ZOinverse(sa)\n",
        "  return sa\n",
        "  \n",
        "s = ZOgenerator()\n",
        "sk = (1,s) #\n",
        "\n",
        "ea = np.random.normal(0,math.sqrt(2),4)\n",
        "e = (ea)\n",
        "qmodsmall = 5\n",
        "aa = np.random.randint(0,qmodsmall,4)\n",
        "a = (aa)\n",
        "\n",
        "\n",
        "b1 = poly.polymul(a,s)\n",
        "\n",
        "b2q,b2r = poly.polydiv(b1%qmod,poly_mod) \n",
        "#print(\"b2r\")\n",
        "#print(b2r)\n",
        "b3 = poly.polyadd(e,-b2r%qmod)\n",
        "b4q,b4r = poly.polydiv(b3%qmod,poly_mod)\n",
        "b = b4r\n",
        "pk = (b,a)\n",
        "\n",
        "#validation key\n",
        "PQ = P*qmod\n",
        "\n",
        "av = np.random.randint(0,qmodsmall,4)\n",
        "ev = np.random.normal(0,math.sqrt(2),4)\n",
        "b1 = poly.polymul(av,s)\n",
        "\n",
        "b2q,b2r = poly.polydiv(b1%PQ,poly_mod) \n",
        "#print(\"b2r\")\n",
        "#print(b2r)\n",
        "b3 = poly.polyadd(e,-b2r%PQ)\n",
        "b4q,b4r = poly.polydiv(b3%PQ,poly_mod)\n",
        "Ps2 = P*(poly.polymul(s,s))\n",
        "b5 = poly.polyadd(b3,Ps2)  #br4\n",
        "b6q,b6r = poly.polydiv(b5%PQ,poly_mod)\n",
        "bv = b6r\n",
        "evk = (bv,av)\n",
        "\n",
        "\n",
        "#encrypt\n",
        "\n",
        "def ckksencrypt(m):\n",
        "  v = ZOgenerator()\n",
        "  e0 = np.random.normal(0,math.sqrt(2),4)\n",
        "  e1 = np.random.normal(0,math.sqrt(2),4)\n",
        "  c0a = poly.polymul(v,b)\n",
        "  c0b = poly.polyadd(c0a,e0)\n",
        "  c0c = poly.polyadd(c0b,m)\n",
        "  c0q,c0r = poly.polydiv(c0c%qmod,poly_mod)\n",
        "  c0 = c0r%qmod\n",
        "  c1a = poly.polymul(v,a)\n",
        "  c1b = poly.polyadd(c1a,e1)\n",
        "  c1q,c1r = poly.polydiv(c1b%qmod,poly_mod)\n",
        "  c1 = c1r%qmod \n",
        "  return (c0,c1)\n",
        "\n",
        "#decrypt\n",
        "def ckksdecrypt(c0,c1,s) :\n",
        " dq,dr=poly.polydiv(poly.polyadd(c0,poly.polymul(c1,s))%qmod,poly_mod)\n",
        " dm = dr % qmod\n",
        " #print(\"s a b c0 c1 dm\")\n",
        " #print(s,a,b)\n",
        " #print(c0,c1)\n",
        " #print(dm)\n",
        " return (np.around(dm))\n",
        "#\n",
        "m0 = np.array([30,40,50,60])\n",
        "m2 = np.array([60,50,40,30])\n",
        "\n",
        "gc0,gc1 = ckksencrypt(m0)\n",
        "gc2,gc3 = ckksencrypt(m2)\n",
        "gs = s\n",
        "gc4 = np.add(gc0,gc2)\n",
        "gc5 = np.add(gc1,gc3)\n",
        "print(ckksdecrypt(gc0,gc1,gs))\n",
        "print(ckksdecrypt(gc2,gc3,gs))\n",
        "print(ckksdecrypt(gc4,gc5,gs))\n",
        "d0m = poly.polymul(gc0,gc2)\n",
        "d0q,d0r = poly.polydiv(d0m,poly_mod)\n",
        "d0 = d0r\n",
        "d1ma = poly.polymul(gc0,gc3)\n",
        "d1mb = poly.polymul(gc1,gc2)\n",
        "d1m =poly.polyadd(d1ma,d1mb)\n",
        "d1q,d1r = poly.polydiv(d1m,poly_mod)\n",
        "d1 = d1r\n",
        "d2m = poly.polymul(gc1,gc3)\n",
        "d2q,d2r = poly.polydiv(d2m,poly_mod)\n",
        "d2 = d2r\n",
        "print(d0,d1,d2)\n",
        "print (\"evk\")\n",
        "print (evk)\n",
        "d2evk0 = poly.polymul(d2,bv)%qmod\n",
        "d2evk1 = poly.polymul(d2,av)%qmod\n",
        "d2evk0q,d2evk0r = (poly.polydiv(d2evk0,poly_mod))\n",
        "d2evk1q,d2evk1r = (poly.polydiv(d2evk1,poly_mod))\n",
        "print(\"d2ev\")\n",
        "print(d2evk0r,d2evk1r)\n",
        "d2a0 = poly.polyadd(d0,d2evk0r/P)\n",
        "d2a1 = poly.polyadd(d1,d2evk1r/P)\n",
        "d2a0q,d2a0r = poly.polydiv(d2a0%qmod,poly_mod)\n",
        "d2a1q,d2a1r = poly.polydiv(d2a1%qmod,poly_mod)\n",
        "gc6 =d2a0r\n",
        "gc7 = d2a1r\n",
        "print(\"decrypt mult\")\n",
        "print(ckksdecrypt(gc6,gc7,gs))"
      ],
      "execution_count": null,
      "outputs": [
        {
          "output_type": "stream",
          "text": [
            "[27. 38. 47. 62.]\n",
            "[59. 52. 35. 33.]\n",
            "[85. 90. 83. 95.]\n",
            "[-4256.04489788   119.78987288  4447.73982358  8308.64367718] [-64520.64643198  24433.53648975 125827.70150041 143102.38467171] [-7066.59732099  4688.89450294 15407.15132969 15943.79869264]\n",
            "evk\n",
            "(array([ 2.61631816e+05,  2.62142369e+05, -1.98992018e+00,  2.62143947e+05]), array([1, 1, 0, 0]))\n",
            "d2ev\n",
            "[-225.80957222 -931.77543116   16.27155685  244.74714661] [-482.39601362  694.29718196  640.04583264  630.95002233]\n",
            "decrypt mult\n",
            "[ 234.  227.  467. 1009.]\n"
          ],
          "name": "stdout"
        }
      ]
    },
    {
      "cell_type": "code",
      "metadata": {
        "id": "DdU1hQxTp1Vd"
      },
      "source": [
        ""
      ],
      "execution_count": null,
      "outputs": []
    },
    {
      "cell_type": "code",
      "metadata": {
        "id": "veX7fdP5p1S0"
      },
      "source": [
        ""
      ],
      "execution_count": null,
      "outputs": []
    },
    {
      "cell_type": "code",
      "metadata": {
        "id": "q3qSN8Kgp1O_"
      },
      "source": [
        ""
      ],
      "execution_count": null,
      "outputs": []
    },
    {
      "cell_type": "code",
      "metadata": {
        "id": "VJUAx_f3p1F4"
      },
      "source": [
        ""
      ],
      "execution_count": null,
      "outputs": []
    }
  ]
}